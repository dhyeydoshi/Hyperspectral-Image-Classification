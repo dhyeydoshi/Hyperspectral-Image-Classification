{
 "cells": [
  {
   "cell_type": "code",
   "execution_count": null,
   "metadata": {
    "id": "sExQ_18RMIQA",
    "pycharm": {
     "name": "#%%\n"
    }
   },
   "outputs": [],
   "source": [
    "import scipy.io\n",
    "import numpy as np\n",
    "import pandas as pd\n",
    "from sklearn.decomposition import PCA\n",
    "import matplotlib.pyplot as plt\n",
    "from sklearn.metrics import accuracy_score, confusion_matrix, classification_report, mean_squared_error, r2_score\n",
    "from sklearn.pipeline import make_pipeline\n",
    "from sklearn.preprocessing import MinMaxScaler\n",
    "from sklearn.neighbors import KNeighborsClassifier\n",
    "from sklearn.svm import SVC\n",
    "from sklearn.tree import DecisionTreeClassifier\n",
    "from sklearn.ensemble import RandomForestClassifier,GradientBoostingClassifier\n",
    "from sklearn.neural_network import MLPClassifier\n",
    "import time\n",
    "from sklearn.model_selection import GridSearchCV, train_test_split, cross_val_score\n",
    "import shutil\n",
    "import itertools\n",
    "import xgboost as xgb\n",
    "import scikitplot as skplt\n",
    "import seaborn as sns\n",
    "from imblearn.over_sampling import SMOTE\n",
    "from sklearn.feature_selection import SelectFromModel\n",
    "from imblearn.pipeline import Pipeline as ImbPipeline\n",
    "from sklearn.utils import class_weight"
   ]
  },
  {
   "cell_type": "code",
   "execution_count": null,
   "metadata": {
    "collapsed": false,
    "jupyter": {
     "outputs_hidden": false
    }
   },
   "outputs": [],
   "source": [
    "import warnings\n",
    "warnings.filterwarnings('ignore')"
   ]
  },
  {
   "cell_type": "markdown",
   "metadata": {},
   "source": [
    "## Labels Names"
   ]
  },
  {
   "cell_type": "code",
   "execution_count": null,
   "metadata": {
    "collapsed": false,
    "jupyter": {
     "outputs_hidden": false
    }
   },
   "outputs": [],
   "source": [
    "indianpines_class_names = ['background',\n",
    "                           'alfalfa',           'corn-notill',               'corn-min',               'corn',\n",
    "                           'grass/pasture',     'grass/trees',    'grass/pasture-mowed',      'hay-windrowed',\n",
    "                           'oats',          'soybeans-notill',           'soybeans-min',      'soybean-clean',\n",
    "                           'wheat',                   'woods', 'bldg-grass-tree-drives', 'stone-steel towers']"
   ]
  },
  {
   "cell_type": "markdown",
   "metadata": {},
   "source": [
    "## Define Draw Classification Map"
   ]
  },
  {
   "cell_type": "code",
   "execution_count": null,
   "metadata": {
    "collapsed": false,
    "jupyter": {
     "outputs_hidden": false
    }
   },
   "outputs": [],
   "source": [
    "def draw_classification_map(classifier_name, prediction, X, y, train_indices, test_indices):\n",
    "    clmap = [0]*X.shape[0]\n",
    "    for i in range(len(train_indices)):\n",
    "        clmap[train_indices[i]] = y[train_indices[i]]\n",
    "\n",
    "    for i in range(len(test_indices)):\n",
    "        clmap[test_indices[i]] = prediction[i]\n",
    "\n",
    "    plt.figure(figsize=(10, 10))\n",
    "    plt.imshow(np.array(clmap).reshape((145, 145)), cmap='jet')\n",
    "    plt.colorbar()\n",
    "    plt.axis('off')\n",
    "    plt.title(f'Classification Map ({classifier_name})')\n",
    "    plt.savefig(f'{classifier_name}_classification_map.png')\n",
    "    plt.show()"
   ]
  },
  {
   "cell_type": "markdown",
   "metadata": {},
   "source": [
    "## Define Distribution Plot"
   ]
  },
  {
   "cell_type": "code",
   "execution_count": null,
   "metadata": {
    "collapsed": false,
    "jupyter": {
     "outputs_hidden": false
    }
   },
   "outputs": [],
   "source": [
    "def distribution_plot(n, df):\n",
    "    plt.figure(figsize=(16, 6))\n",
    "    sns.distplot(df['band-' + str(n)], color='mediumSpringGreen', bins=100, hist_kws={'alpha': 0.4})\n",
    "    plt.xlabel('Band - ' + str(n), fontsize=14)\n",
    "    plt.title('Distribution Plot of Band - ' + str(n), fontsize=16)\n",
    "    plt.show()"
   ]
  },
  {
   "cell_type": "markdown",
   "metadata": {},
   "source": [
    "## Define Box Plot"
   ]
  },
  {
   "cell_type": "code",
   "execution_count": null,
   "metadata": {
    "collapsed": false,
    "jupyter": {
     "outputs_hidden": false
    }
   },
   "outputs": [],
   "source": [
    "def box_plot(n, df):\n",
    "    plt.figure(figsize=(16, 6))\n",
    "    sns.boxplot(x=df[\"class\"], y=df['band-' + str(n)], width=0.3)\n",
    "    plt.title('Box Plot', fontsize=16)\n",
    "    plt.xlabel('Class', fontsize=14)\n",
    "    plt.ylabel(f'Band-{n}', fontsize=14)\n",
    "    plt.show()"
   ]
  },
  {
   "cell_type": "markdown",
   "metadata": {},
   "source": [
    "## Define Bar Plot"
   ]
  },
  {
   "cell_type": "code",
   "execution_count": null,
   "metadata": {
    "collapsed": false,
    "jupyter": {
     "outputs_hidden": false
    }
   },
   "outputs": [],
   "source": [
    "def bar_plot(df):\n",
    "    plt.figure(figsize=(14, 8))\n",
    "    ax = sns.countplot(x='class', data=df[['class']])\n",
    "    for p in ax.patches:\n",
    "        ax.annotate('{:.1f}%'.format(100 * p.get_height() / df.shape[0]), (p.get_x() + 0.1, p.get_height() + 5))\n",
    "    plt.ylabel('Class count with percentage', fontsize=14)\n",
    "    plt.xlabel('class', fontsize=14)\n",
    "    plt.title('Bar Plot', fontsize=16)\n",
    "    plt.show()"
   ]
  },
  {
   "cell_type": "markdown",
   "metadata": {},
   "source": [
    "## Define List to Array"
   ]
  },
  {
   "cell_type": "code",
   "execution_count": null,
   "metadata": {
    "collapsed": false,
    "jupyter": {
     "outputs_hidden": false
    }
   },
   "outputs": [],
   "source": [
    "def list2array(X):\n",
    "    return np.array([np.asarray(item, dtype=float) for item in X])"
   ]
  },
  {
   "cell_type": "markdown",
   "metadata": {},
   "source": [
    "## Define Confusion Matrix"
   ]
  },
  {
   "cell_type": "code",
   "execution_count": null,
   "metadata": {
    "collapsed": false,
    "jupyter": {
     "outputs_hidden": false
    }
   },
   "outputs": [],
   "source": [
    "def plot_confusion_matrix(y_true, y_pred, classes,\n",
    "                          title='Confusion Matrix',\n",
    "                          normalize=False,\n",
    "                          cmap=plt.cm.Blues):\n",
    "    cm = confusion_matrix(y_true, y_pred)\n",
    "    if normalize:\n",
    "        cm = cm.astype('float') / cm.sum(axis=1)[:, np.newaxis]\n",
    "        print(\"Normalized Confusion Matrix\")\n",
    "    else:\n",
    "        print('Confusion Matrix')\n",
    "\n",
    "    plt.figure(figsize=(15, 15))\n",
    "    plt.imshow(cm, interpolation='nearest', cmap=cmap)\n",
    "    plt.title(title)\n",
    "    plt.colorbar()\n",
    "    tick_marks = np.arange(len(classes))\n",
    "    plt.xticks(tick_marks, classes, rotation=45)\n",
    "    plt.yticks(tick_marks, classes)\n",
    "\n",
    "    fmt = '.2f' if normalize else 'd'\n",
    "    thresh = cm.max() / 2.\n",
    "    for i, j in itertools.product(range(cm.shape[0]), range(cm.shape[1])):\n",
    "        plt.text(j, i, format(cm[i, j], fmt),\n",
    "                 horizontalalignment=\"center\",\n",
    "                 color=\"white\" if cm[i, j] > thresh else \"black\")\n",
    "\n",
    "    plt.tight_layout()\n",
    "    plt.ylabel('True label')\n",
    "    plt.xlabel('Predicted label')\n",
    "    plt.savefig(f'{title}.png')\n",
    "    plt.show()"
   ]
  },
  {
   "cell_type": "markdown",
   "metadata": {},
   "source": [
    "## Define Save Report"
   ]
  },
  {
   "cell_type": "code",
   "execution_count": null,
   "metadata": {
    "collapsed": false,
    "jupyter": {
     "outputs_hidden": false
    }
   },
   "outputs": [],
   "source": [
    "def save_report(filename, metrics, report, best_params, train_acc):\n",
    "    with open(filename, \"w\") as file:\n",
    "        file.write(\"Classification Report:\\n\")\n",
    "        file.write(str(report))\n",
    "        file.write(f'\\n{str(train_acc)}')\n",
    "        file.write(f\"\\n{str(metrics)}\\n\")\n",
    "        file.write(\"\\nBest Parameters:\\n\")\n",
    "        file.write(str(best_params))"
   ]
  },
  {
   "cell_type": "markdown",
   "metadata": {},
   "source": [
    "## Classification Pipeline"
   ]
  },
  {
   "cell_type": "code",
   "execution_count": null,
   "metadata": {
    "collapsed": false,
    "jupyter": {
     "outputs_hidden": false
    }
   },
   "outputs": [],
   "source": [
    "from sklearn.model_selection import StratifiedKFold\n",
    "\n",
    "\n",
    "def run_classification_pipeline(X_train, X_test, y_train, y_test, classifier_name, classifier, param_grid, cv_folds=5):\n",
    "\n",
    "    resample_strategy = SMOTE(sampling_strategy='auto', random_state=1)\n",
    "    #feature_selection = SelectFromModel(RandomForestClassifier(n_estimators=100))\n",
    "    # pca = PCA(n_components=100)  # Retains 95% of variance\n",
    "    start_time = time.time()\n",
    "    # Define a pipeline that includes scaling, SMOTE, and the classifier\n",
    "    steps = [#('scaler', MinMaxScaler()),\n",
    "            #('feature_selection', feature_selection),\n",
    "             #('pca', pca),\n",
    "             ('resampling', resample_strategy),\n",
    "             ('classifier', classifier)]\n",
    "    pipeline = ImbPipeline(steps=steps)\n",
    "\n",
    "    # Define the cross-validator\n",
    "    cv = StratifiedKFold(n_splits=cv_folds, shuffle=True, random_state=42)\n",
    "\n",
    "    # Set up the grid search\n",
    "    grid_search = GridSearchCV(pipeline, param_grid, cv=cv, scoring='accuracy', n_jobs=-1)\n",
    "\n",
    "    # Fit the grid search\n",
    "    grid_search.fit(X_train, y_train)\n",
    "\n",
    "    # Best model evaluation on the test set\n",
    "    best_model = grid_search.best_estimator_\n",
    "    best_params = grid_search.best_params_\n",
    "    y_pred = best_model.predict(X_test)\n",
    "\n",
    "    print(f'{classifier_name} Train_Acc={grid_search.score(X_train, y_train):.3f}, Test_Cla_Acc={grid_search.score(X_test, y_test):.3f}, time_cost={time.time()-start_time:.3f}')\n",
    "\n",
    "    return best_model, grid_search, best_params, y_pred\n"
   ]
  },
  {
   "cell_type": "markdown",
   "metadata": {},
   "source": [
    "## Load Data"
   ]
  },
  {
   "cell_type": "code",
   "execution_count": null,
   "metadata": {
    "collapsed": false,
    "jupyter": {
     "outputs_hidden": false
    }
   },
   "outputs": [],
   "source": [
    "df_soil = pd.read_csv(\"dataset/dataset.csv\")\n",
    "df_soil.loc[:,'class'].value_counts()\n",
    "X = df_soil.iloc[:, :-1].values\n",
    "y = df_soil.iloc[:, -1].values\n",
    "print(X.shape, y.shape)\n",
    "height = 145\n",
    "width = 145\n",
    "band = 220\n",
    "num_classes = 17\n",
    "df_soil.head()"
   ]
  },
  {
   "cell_type": "markdown",
   "metadata": {},
   "source": [
    "## Plot Bands"
   ]
  },
  {
   "cell_type": "code",
   "execution_count": null,
   "metadata": {
    "collapsed": false,
    "jupyter": {
     "outputs_hidden": false
    }
   },
   "outputs": [],
   "source": [
    "def plot_band(dataset):\n",
    "    plt.figure(figsize=(8, 6))\n",
    "    band_no = np.random.randint(dataset.shape[1])\n",
    "    dataset = dataset.values.reshape(145,145,dataset.shape[1])\n",
    "    plt.imshow(dataset[:,:, band_no], cmap='jet')\n",
    "    plt.title(f'Band-{band_no}', fontsize=14)\n",
    "    plt.axis('off')\n",
    "    plt.colorbar()\n",
    "    plt.show()\n",
    "plot_band(df_soil)"
   ]
  },
  {
   "cell_type": "markdown",
   "metadata": {},
   "source": [
    "## Visualizing ground truth of the image."
   ]
  },
  {
   "cell_type": "code",
   "execution_count": null,
   "metadata": {
    "collapsed": false,
    "jupyter": {
     "outputs_hidden": false
    }
   },
   "outputs": [],
   "source": [
    "plt.figure(figsize=(8, 6))\n",
    "ground_truth = df_soil['class']\n",
    "ground_truth = ground_truth.values.reshape(145,145)\n",
    "plt.imshow(ground_truth)\n",
    "plt.axis('off')\n",
    "plt.colorbar(ticks= range(0,16))\n",
    "plt.show()"
   ]
  },
  {
   "cell_type": "markdown",
   "metadata": {},
   "source": [
    "## Visualizing Spectral Signatures"
   ]
  },
  {
   "cell_type": "code",
   "execution_count": null,
   "metadata": {
    "collapsed": false,
    "jupyter": {
     "outputs_hidden": false
    }
   },
   "outputs": [],
   "source": [
    "def plot_signature(df):\n",
    "    plt.figure(figsize=(12, 6))\n",
    "    pixel_no = np.random.randint(df.shape[0])\n",
    "    print(\"Pixel No: \",pixel_no)\n",
    "    plt.plot(range(1, 221), df.iloc[pixel_no, :-1].values.tolist(), 'b--', label= f'Class - {df.iloc[pixel_no, -1]}')\n",
    "    plt.legend()\n",
    "    plt.title(f'Pixel({pixel_no}) signature', fontsize=14)\n",
    "    plt.xlabel('Band Number', fontsize=14)\n",
    "    plt.ylabel('Pixel Intensity', fontsize=14)\n",
    "    plt.show()\n",
    "plot_signature(df_soil)"
   ]
  },
  {
   "cell_type": "markdown",
   "metadata": {},
   "source": [
    "## Box Plot"
   ]
  },
  {
   "cell_type": "code",
   "execution_count": null,
   "metadata": {
    "collapsed": false,
    "jupyter": {
     "outputs_hidden": false
    }
   },
   "outputs": [],
   "source": [
    "box_plot(50, df_soil)"
   ]
  },
  {
   "cell_type": "code",
   "execution_count": null,
   "metadata": {
    "collapsed": false,
    "jupyter": {
     "outputs_hidden": false
    }
   },
   "outputs": [],
   "source": [
    "distribution_plot(50, df_soil)\n",
    "\n",
    "# for i in range(1, 221):\n",
    "#     distribution_plot(i, df_soil)"
   ]
  },
  {
   "cell_type": "markdown",
   "metadata": {},
   "source": [
    "## Splitting and Training Data"
   ]
  },
  {
   "cell_type": "code",
   "execution_count": null,
   "metadata": {
    "collapsed": false,
    "jupyter": {
     "outputs_hidden": false
    }
   },
   "outputs": [],
   "source": [
    "X_train, X_test, y_train, y_test, train_indexes, test_indexes = \\\n",
    "    train_test_split(X, y, range(X.shape[0]),train_size=0.7, random_state=123, stratify=y)\n",
    "train_indices = list2array(train_indexes, isdata=False)\n",
    "test_indices = list2array(test_indexes, isdata=False)"
   ]
  },
  {
   "cell_type": "markdown",
   "metadata": {},
   "source": [
    "## Print Data Summary"
   ]
  },
  {
   "cell_type": "code",
   "execution_count": null,
   "metadata": {
    "collapsed": false,
    "jupyter": {
     "outputs_hidden": false
    }
   },
   "outputs": [],
   "source": [
    "def print_data_summary_1(y_train,y_test,y,num_classes):\n",
    "    df = pd.DataFrame(np.random.randn(num_classes, 3),\n",
    "                      index=[indianpines_class_names[i] for i in range(0,num_classes)],\n",
    "                      columns=['Train', 'Test', 'Total'])\n",
    "    df['Train'] = [sum(y_train==i) for i in range(0,num_classes)]\n",
    "    df['Total'] = [sum(y==i) for i in range(0,num_classes)]\n",
    "    df['Test'] = np.array(df['Total']) - np.array(df['Train'])\n",
    "    print('Summary of training and testing samples:')\n",
    "    print(df)\n",
    "    print(\"Training samples: %d\" % len(y_train))\n",
    "    print(\"Test samples: %d\" % len(y_test))\n",
    "print_data_summary_1(y_train, y_test, y, num_classes)\n"
   ]
  },
  {
   "cell_type": "code",
   "execution_count": null,
   "metadata": {
    "collapsed": false,
    "jupyter": {
     "outputs_hidden": false
    }
   },
   "outputs": [],
   "source": [
    "class_wt = class_weight.compute_class_weight('balanced', classes=np.unique(y_train), y=y_train)"
   ]
  },
  {
   "cell_type": "markdown",
   "metadata": {},
   "source": [
    "## Standardization"
   ]
  },
  {
   "cell_type": "code",
   "execution_count": null,
   "metadata": {
    "collapsed": false,
    "jupyter": {
     "outputs_hidden": false
    }
   },
   "outputs": [],
   "source": [
    "scaler = MinMaxScaler()\n",
    "X_train_scaler = scaler.fit_transform(X_train)\n",
    "X_test_scaler = scaler.transform(X_test)"
   ]
  },
  {
   "cell_type": "markdown",
   "metadata": {},
   "source": [
    "## Define Classifiers"
   ]
  },
  {
   "cell_type": "code",
   "execution_count": null,
   "metadata": {
    "collapsed": false,
    "jupyter": {
     "outputs_hidden": false
    }
   },
   "outputs": [],
   "source": [
    "classifiers = {\n",
    "    'KNN': (KNeighborsClassifier(), {'classifier__n_neighbors': [3]}),\n",
    "    'SVM_RBF': (SVC(probability=True), {'classifier__C': [1, 10, 50, 100, 0.1], 'classifier__kernel': ['rbf'], 'classifier__gamma': ['scale']}),\n",
    "    'SVM_Poly': (SVC(probability=True), {'classifier__C': [1, 10, 50, 100, 0.1], 'classifier__kernel': ['poly'], 'classifier__degree':[1,2,3,4,5,6], 'classifier__gamma': ['scale']}),\n",
    "    'Xgboost':(xgb.XGBClassifier(), {'classifier__colsample_bytree': [1.0], 'classifier__eta': [0.1], 'classifier__gamma': [0], 'classifier__max_depth': [20], 'classifier__min_child_weight': [10], 'classifier__n_estimator': [3000], 'classifier__nthreads': [-1], 'classifier__num_class': [16], 'classifier__objective': ['multi:softmax'], 'classifier__subsample': [1.0], 'classifier__tree_method': ['auto']}),\n",
    "    'Random_Forest': (RandomForestClassifier(), {'classifier__n_estimators': [100], 'classifier__min_samples_split': [2], 'classifier__min_samples_leaf': [1]}),\n",
    "    'Gradient_Boosting': (GradientBoostingClassifier(), {'classifier__n_estimators': [300]}),\n",
    "    'MLP': (MLPClassifier(), {'classifier__hidden_layer_sizes': [400, 500]})\n",
    "}"
   ]
  },
  {
   "cell_type": "code",
   "execution_count": null,
   "metadata": {
    "collapsed": false,
    "jupyter": {
     "outputs_hidden": false
    }
   },
   "outputs": [],
   "source": [
    "selected_classifiers = ['Random_Forest', 'KNN', 'SVM_RBF', 'Xgboost', 'Gradient_Boosting', 'MLP', 'SVM_Poly']\n",
    "classifiers_to_run = {name: classifiers[name] for name in selected_classifiers if name in classifiers}\n"
   ]
  },
  {
   "cell_type": "code",
   "execution_count": null,
   "metadata": {
    "collapsed": false,
    "jupyter": {
     "outputs_hidden": false
    }
   },
   "outputs": [],
   "source": [
    "classifiers_to_run"
   ]
  },
  {
   "cell_type": "markdown",
   "metadata": {},
   "source": [
    "## Run Classification Pipeline"
   ]
  },
  {
   "cell_type": "code",
   "execution_count": null,
   "metadata": {
    "collapsed": false,
    "jupyter": {
     "outputs_hidden": false
    }
   },
   "outputs": [],
   "source": [
    "for name, (classifier, params) in classifiers_to_run.items():\n",
    "    best_model, grid_search, best_param, prediction = run_classification_pipeline(X_train=X_train_scaler,y_train=y_train,X_test=X_test_scaler, y_test=y_test,classifier_name=name, classifier=classifier, param_grid=params)\n",
    "\n",
    "    print(f\"Results for {name}:\")\n",
    "    print(f'Accuracy: {accuracy_score(y_test, prediction)}%')\n",
    "    print(f\"{name} Class Report: \\n\", classification_report(y_test, prediction))\n",
    "    plot_confusion_matrix(y_test, prediction, classes=indianpines_class_names, normalize=True, title=f'{name} Confusion Matrix')\n",
    "    prob = best_model.predict_proba(X_test_scaler)\n",
    "    skplt.metrics.plot_roc(y_test, prob, title=f'{name} ROC Curves', figsize=(15, 15))\n",
    "    draw_classification_map(name, prediction, X, y, train_indexes, test_indexes)\n",
    "    save_report(f'{name}_report.txt', accuracy_score(y_test, prediction), classification_report(y_test, prediction), best_param, grid_search.score(X_train_scaler, y_train))\n",
    "    print(\"-\" * 80)\n"
   ]
  }
 ],
 "metadata": {
  "colab": {
   "provenance": []
  },
  "gpuClass": "standard",
  "kernelspec": {
   "display_name": "DS Project Environment(Python 3.10)",
   "language": "python",
   "name": "project_env"
  },
  "language_info": {
   "codemirror_mode": {
    "name": "ipython",
    "version": 3
   },
   "file_extension": ".py",
   "mimetype": "text/x-python",
   "name": "python",
   "nbconvert_exporter": "python",
   "pygments_lexer": "ipython3",
   "version": "3.10.13"
  }
 },
 "nbformat": 4,
 "nbformat_minor": 4
}
